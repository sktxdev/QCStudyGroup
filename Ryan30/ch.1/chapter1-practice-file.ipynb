{
 "cells": [
  {
   "cell_type": "code",
   "execution_count": 11,
   "metadata": {},
   "outputs": [
    {
     "data": {
      "text/html": [
       "<pre style=\"word-wrap: normal;white-space: pre;background: #fff0;line-height: 1.1;font-family: &quot;Courier New&quot;,Courier,monospace\">      ┌─┐                                 \n",
       " q_0: ┤M├─────────────────────────────────\n",
       "      └╥┘┌─┐                              \n",
       " q_1: ─╫─┤M├──────────────────────────────\n",
       "       ║ └╥┘┌─┐                           \n",
       " q_2: ─╫──╫─┤M├───────────────────────────\n",
       "       ║  ║ └╥┘┌─┐                        \n",
       " q_3: ─╫──╫──╫─┤M├────────────────────────\n",
       "       ║  ║  ║ └╥┘┌─┐                     \n",
       " q_4: ─╫──╫──╫──╫─┤M├─────────────────────\n",
       "       ║  ║  ║  ║ └╥┘┌─┐                  \n",
       " q_5: ─╫──╫──╫──╫──╫─┤M├──────────────────\n",
       "       ║  ║  ║  ║  ║ └╥┘┌─┐               \n",
       " q_6: ─╫──╫──╫──╫──╫──╫─┤M├───────────────\n",
       "       ║  ║  ║  ║  ║  ║ └╥┘┌─┐            \n",
       " q_7: ─╫──╫──╫──╫──╫──╫──╫─┤M├────────────\n",
       "       ║  ║  ║  ║  ║  ║  ║ └╥┘┌─┐         \n",
       " q_8: ─╫──╫──╫──╫──╫──╫──╫──╫─┤M├─────────\n",
       "       ║  ║  ║  ║  ║  ║  ║  ║ └╥┘┌─┐      \n",
       " q_9: ─╫──╫──╫──╫──╫──╫──╫──╫──╫─┤M├──────\n",
       "       ║  ║  ║  ║  ║  ║  ║  ║  ║ └╥┘┌─┐   \n",
       "q_10: ─╫──╫──╫──╫──╫──╫──╫──╫──╫──╫─┤M├───\n",
       "       ║  ║  ║  ║  ║  ║  ║  ║  ║  ║ └╥┘┌─┐\n",
       "q_11: ─╫──╫──╫──╫──╫──╫──╫──╫──╫──╫──╫─┤M├\n",
       "       ║  ║  ║  ║  ║  ║  ║  ║  ║  ║  ║ └╥┘\n",
       "c: 12/═╩══╩══╩══╩══╩══╩══╩══╩══╩══╩══╩══╩═\n",
       "       0  1  2  3  4  5  6  7  8  9  10 11</pre>"
      ],
      "text/plain": [
       "      ┌─┐                                 \n",
       " q_0: ┤M├─────────────────────────────────\n",
       "      └╥┘┌─┐                              \n",
       " q_1: ─╫─┤M├──────────────────────────────\n",
       "       ║ └╥┘┌─┐                           \n",
       " q_2: ─╫──╫─┤M├───────────────────────────\n",
       "       ║  ║ └╥┘┌─┐                        \n",
       " q_3: ─╫──╫──╫─┤M├────────────────────────\n",
       "       ║  ║  ║ └╥┘┌─┐                     \n",
       " q_4: ─╫──╫──╫──╫─┤M├─────────────────────\n",
       "       ║  ║  ║  ║ └╥┘┌─┐                  \n",
       " q_5: ─╫──╫──╫──╫──╫─┤M├──────────────────\n",
       "       ║  ║  ║  ║  ║ └╥┘┌─┐               \n",
       " q_6: ─╫──╫──╫──╫──╫──╫─┤M├───────────────\n",
       "       ║  ║  ║  ║  ║  ║ └╥┘┌─┐            \n",
       " q_7: ─╫──╫──╫──╫──╫──╫──╫─┤M├────────────\n",
       "       ║  ║  ║  ║  ║  ║  ║ └╥┘┌─┐         \n",
       " q_8: ─╫──╫──╫──╫──╫──╫──╫──╫─┤M├─────────\n",
       "       ║  ║  ║  ║  ║  ║  ║  ║ └╥┘┌─┐      \n",
       " q_9: ─╫──╫──╫──╫──╫──╫──╫──╫──╫─┤M├──────\n",
       "       ║  ║  ║  ║  ║  ║  ║  ║  ║ └╥┘┌─┐   \n",
       "q_10: ─╫──╫──╫──╫──╫──╫──╫──╫──╫──╫─┤M├───\n",
       "       ║  ║  ║  ║  ║  ║  ║  ║  ║  ║ └╥┘┌─┐\n",
       "q_11: ─╫──╫──╫──╫──╫──╫──╫──╫──╫──╫──╫─┤M├\n",
       "       ║  ║  ║  ║  ║  ║  ║  ║  ║  ║  ║ └╥┘\n",
       "c: 12/═╩══╩══╩══╩══╩══╩══╩══╩══╩══╩══╩══╩═\n",
       "       0  1  2  3  4  5  6  7  8  9  10 11"
      ]
     },
     "execution_count": 11,
     "metadata": {},
     "output_type": "execute_result"
    }
   ],
   "source": [
    "#practice file for the qiskit book: https://qiskit.org/textbook/ch-states/introduction.html\n",
    "#Author: Ryan30\n",
    "#Date: 2020-10-25\n",
    "\n",
    "\n",
    "#https://qiskit.org/textbook/ch-states/atoms-computation.html\n",
    "#ch 1.2 - Atoms of computation\n",
    "\n",
    "#try the widget out\n",
    "#from qiskit_textbook.widgets import binary_widget\n",
    "#binary_widget(nbits=6)\n",
    "\n",
    "#Example 3 - First quantum circuit\n",
    "#import QC modules\n",
    "from qiskit import QuantumCircuit, execute, Aer\n",
    "from qiskit.visualization import plot_histogram\n",
    "\n",
    "#word of advice dont put a number this large because the server crashed, lol.\n",
    "#n = 8000\n",
    "\n",
    "n = 12\n",
    "#this represents the number of qubits in the circuit\n",
    "n_q = n\n",
    "\n",
    "#this represents the number of outputs in the circuit\n",
    "n_b = n\n",
    "qc_out = QuantumCircuit(n_q,n_b)\n",
    "\n",
    "for j in range(n):\n",
    "    qc_out.measure(j,j)\n",
    "    \n",
    "qc_out.draw()\n"
   ]
  },
  {
   "cell_type": "code",
   "execution_count": 12,
   "metadata": {},
   "outputs": [
    {
     "data": {
      "image/png": "[encoded data removed]",
      "text/plain": [
       "<Figure size 504x360 with 1 Axes>"
      ]
     },
     "execution_count": 12,
     "metadata": {},
     "output_type": "execute_result"
    }
   ],
   "source": [
    "#According to the book we have initialized our qubits to output 0 and we can see that the result is all zeroes\n",
    "#based on the input so n= 8 has 8 zeros, etc. \n",
    "#TODO: read up on the Aer module. It looks like you can swap out your back end which is cool. \n",
    "counts = execute(qc_out, Aer.get_backend('qasm_simulator')).result().get_counts()\n",
    "plot_histogram(counts)"
   ]
  },
  {
   "cell_type": "code",
   "execution_count": null,
   "metadata": {},
   "outputs": [],
   "source": []
  }
 ],
 "metadata": {
  "kernelspec": {
   "display_name": "Python 3",
   "language": "python",
   "name": "python3"
  },
  "language_info": {
   "codemirror_mode": {
    "name": "ipython",
    "version": 3
   },
   "file_extension": ".py",
   "mimetype": "text/x-python",
   "name": "python",
   "nbconvert_exporter": "python",
   "pygments_lexer": "ipython3",
   "version": "3.8.5"
  }
 },
 "nbformat": 4,
 "nbformat_minor": 4
}
